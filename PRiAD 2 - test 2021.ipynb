{
 "cells": [
  {
   "cell_type": "markdown",
   "metadata": {},
   "source": [
    "# PRiAD2 - test zaliczający (sem. zimowy 21/22)\n",
    "\n",
    "Test obejmuje zagadnienia, których dotyczy skrypt PRiAD2 ale wymaga także wiedzy z wcześniejszych ćwiczeń."
   ]
  },
  {
   "cell_type": "code",
   "execution_count": 50,
   "metadata": {},
   "outputs": [],
   "source": [
    "# przyda się\n",
    "import numpy as np\n",
    "import pandas as pd\n",
    "import seaborn as sns\n",
    "import matplotlib.pyplot as plt"
   ]
  },
  {
   "cell_type": "markdown",
   "metadata": {},
   "source": [
    "**Imię, nazwisko i numer indeksu:** (tu wpisz swoje imię, nazwisko i numer indeksu)"
   ]
  },
  {
   "cell_type": "markdown",
   "metadata": {},
   "source": [
    "> **Zadanie 1** Wyświetl wykres liniowy średnich kursów **miesięcznych** walut pobranych z jednego z dwóch dostępnych plików"
   ]
  },
  {
   "cell_type": "code",
   "execution_count": 45,
   "metadata": {},
   "outputs": [],
   "source": [
    "# rozwiązanie zadania\n"
   ]
  },
  {
   "cell_type": "markdown",
   "metadata": {},
   "source": [
    "> **Zadanie 2** Wyświetl wykres słupkowy pokazujący liczbę ludności wszystkich dużych państw świata tj. liczących więcej niż 35 milionów mieszkańców w kolejności od najmniejszego do największego. "
   ]
  },
  {
   "cell_type": "code",
   "execution_count": 1,
   "metadata": {},
   "outputs": [],
   "source": [
    "# rozwiązanie zadania\n"
   ]
  },
  {
   "cell_type": "markdown",
   "metadata": {},
   "source": [
    "> **Zadanie 3** Narysuj histogramy poszczególnych atrybutów zbioru danych `iris` z podziałem na klasy, oraz macierz wykresów punktowych. Oceń przydatność poszczególnych atrybutów do rozróżniania odmian irysa"
   ]
  },
  {
   "cell_type": "code",
   "execution_count": 1,
   "metadata": {},
   "outputs": [],
   "source": [
    "# rozwiązanie zadania\n"
   ]
  },
  {
   "cell_type": "markdown",
   "metadata": {},
   "source": [
    "**Wnioski:** (tu wpisz wnioski - ocena przydatności atrybutów)\n",
    "* ....\n",
    "* ....\n"
   ]
  },
  {
   "cell_type": "markdown",
   "metadata": {},
   "source": [
    "> Zmień nazwę tego skryptu na następującą \"PRiAD2_Imię_Nazwisko.ipynb\" i wgraj wgraj go do ISOD-a we wskazane miejsce, nie przekraczając wyznaczonego terminu."
   ]
  }
 ],
 "metadata": {
  "kernelspec": {
   "display_name": "Python 3",
   "language": "python",
   "name": "python3"
  },
  "language_info": {
   "codemirror_mode": {
    "name": "ipython",
    "version": 3
   },
   "file_extension": ".py",
   "mimetype": "text/x-python",
   "name": "python",
   "nbconvert_exporter": "python",
   "pygments_lexer": "ipython3",
   "version": "3.8.8"
  }
 },
 "nbformat": 4,
 "nbformat_minor": 4
}
